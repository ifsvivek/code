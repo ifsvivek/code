{
  "cells": [
    {
      "cell_type": "code",
      "execution_count": null,
      "metadata": {
        "colab": {
          "base_uri": "https://localhost:8080/"
        },
        "id": "LQ08VjB0YYgp",
        "outputId": "5937ec86-bd4f-46e1-d504-fe51a0a8250f"
      },
      "outputs": [],
      "source": [
        "!git clone https://github.com/otuva/handwriting-synthesis\n",
        "&cd handwriting-synthesis\n",
        "!python -m venv venv\n",
        "!source venv/bin/activate\n",
        "!pip install -r requirements.txt"
      ]
    },
    {
      "cell_type": "code",
      "execution_count": 3,
      "metadata": {
        "id": "3h4KxnQuYhfA"
      },
      "outputs": [],
      "source": [
        "from handwriting_synthesis.hand import Hand\n",
        "\n",
        "lines = [\n",
        "    \"In the heart of a quiet town,\",\n",
        "    \"An old clock tower stood tall and proud.\",\n",
        "    \"Its hands, though rusty, moved with grace,\",\n",
        "    \"Counting moments, day and night.\",\n",
        "    \"\",\n",
        "    \"One day, a young girl stood before it,\",\n",
        "    \"Her eyes full of wonder and dreams.\",\n",
        "    \"I wish, she whispered to the ticking clock,\",\n",
        "    \"To make every moment count.\",\n",
        "    \"\",\n",
        "    \"The clock seemed to listen,\",\n",
        "    \"Its hands moving slower, more deliberately.\",\n",
        "    \"Time stretched and wove into memories,\",\n",
        "    \"As the girl lived her days fully and bright.\",\n",
        "    \"\",\n",
        "    \"And so, the old clock tower,\",\n",
        "    \"Once a simple keeper of time,\",\n",
        "    \"Became a witness to the richness of life,\",\n",
        "    \"As each second became a treasured moment.\"\n",
        "]\n",
        "\n",
        "biases = [.75 for _ in lines]\n",
        "styles = [9 for _ in lines]\n",
        "stroke_colors = ['black' for _ in lines]\n",
        "stroke_widths = [1 for _ in lines]  # Use a consistent stroke width\n",
        "\n",
        "hand = Hand()\n",
        "hand.write(\n",
        "    filename='img/short_story_black.svg',\n",
        "    lines=lines,\n",
        "    biases=biases,\n",
        "    styles=styles,\n",
        "    stroke_colors=stroke_colors,\n",
        "    stroke_widths=stroke_widths\n",
        ")\n"
      ]
    }
  ],
  "metadata": {
    "colab": {
      "provenance": []
    },
    "kernelspec": {
      "display_name": "Python 3",
      "name": "python3"
    },
    "language_info": {
      "name": "python"
    }
  },
  "nbformat": 4,
  "nbformat_minor": 0
}
